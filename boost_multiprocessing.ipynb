{
 "cells": [
  {
   "cell_type": "markdown",
   "metadata": {},
   "source": [
    "# Параллельное обучение бустинга на разных параметрах"
   ]
  },
  {
   "cell_type": "code",
   "execution_count": 212,
   "metadata": {},
   "outputs": [
    {
     "name": "stdout",
     "output_type": "stream",
     "text": [
      "1584\n",
      "CPU times: user 6.01 ms, sys: 119 µs, total: 6.13 ms\n",
      "Wall time: 4.73 ms\n"
     ]
    }
   ],
   "source": [
    "%%time\n",
    "# СОЗДАДИМ ТАБЛИЧКУ ВСЕХ ПАРАМЕТРОВ ДЛЯ ПЕРЕБОРА\n",
    "\n",
    "all_parameters = [(x0,x1,x2,x3,x4,x5)\n",
    "                  for x0 in range(500, 1001, 50) \n",
    "                  for x1 in range(3, 5, 1)\n",
    "                  for x2 in [x/1000 for x in range(3, 20, 5)]\n",
    "                  for x3 in [0.7,0.8] \n",
    "                  for x4 in [80,100,120] \n",
    "                  for x5 in [0.8,1,1.2]\n",
    "                  ]\n",
    "\n",
    "print(len(all_parameters))\n",
    "\n",
    "table_with_parameters = pd.DataFrame(all_parameters, columns=[\n",
    "    'n_estimators','max_depth','learning_rate','subsample','min_child_weight','scale_pos_weight'\n",
    "]).astype( dtype={\n",
    "                 'n_estimators' : int, \n",
    "                 'max_depth': int,\n",
    "                 'learning_rate': float,\n",
    "                 'subsample': float,\n",
    "                 'min_child_weight': int,\n",
    "                 'scale_pos_weight': float})"
   ]
  },
  {
   "cell_type": "code",
   "execution_count": 213,
   "metadata": {},
   "outputs": [],
   "source": [
    "# СОЗДАЕМ ПОЛЕ СО ВСЕМИ ПАРАМЕТРАМИ В ВИДЕ СПИСКА\n",
    "\n",
    "table_with_parameters['all_param_list'] = table_with_parameters[\n",
    "    ['n_estimators', 'max_depth','learning_rate','subsample','min_child_weight','scale_pos_weight']\n",
    "    ].apply(lambda x : list([x[0],x[1],x[2],x[3],x[4],x[5]]), axis=1)"
   ]
  },
  {
   "cell_type": "code",
   "execution_count": 214,
   "metadata": {},
   "outputs": [],
   "source": [
    "# ФУНКЦИЯ ОБУЧЕНИЯ БУСТИНГА ДЛЯ ЗАДАННЫХ ПАРАМЕТРОВ -- ИМЕННО ЕЁ БУДЕТ ВЫЧИСЛЯТЬ ПАРАЛЛЕЛЬНО\n",
    "# ВЫДАЕТ СПИСОК ИЗ ДЖИНИ НА КАЖДОМ ИЗ СЕГМЕНТОВ -- ТРЕЙН, ТЕСТ, ООТ\n",
    "\n",
    "def learning_boost(x0,x1,x2,x3,x4,x5):\n",
    "    clf = xgb.XGBClassifier( \n",
    "        objective='binary:logistic',\n",
    "        n_estimators=x0,\n",
    "        max_depth=x1,\n",
    "        learning_rate=x2, \n",
    "        subsample=x3,\n",
    "        colsample_bytree=0.8,\n",
    "        eval_metric='auc',\n",
    "        tree_method='hist',\n",
    "        reg_lambda=1,\n",
    "        min_child_weight=x4,\n",
    "        n_jobs=-1,\n",
    "        importance_type='weight',\n",
    "        random_state=123,\n",
    "        scale_pos_weight=x5,\n",
    "        max_delta_step =0\n",
    "        )\n",
    "    h = clf.fit(X_train, y_train)\n",
    "    gini_tr = roc_auc_score(y_train,clf.predict_proba(X_train)[:,1])*2-1\n",
    "    gini_te = roc_auc_score(y_test,clf.predict_proba(X_test)[:,1])*2-1\n",
    "    gini_oot = roc_auc_score(y_oot,clf.predict_proba(X_oot)[:,1])*2-1\n",
    "    \n",
    "    return [gini_tr,gini_te,gini_oot]"
   ]
  },
  {
   "cell_type": "markdown",
   "metadata": {},
   "source": [
    "# Создание таблицы результатов буста"
   ]
  },
  {
   "cell_type": "code",
   "execution_count": 215,
   "metadata": {},
   "outputs": [
    {
     "name": "stdout",
     "output_type": "stream",
     "text": [
      "198 variables\n"
     ]
    }
   ],
   "source": [
    "print(len(variables), 'variables') # ПЕРЕМЕННЫЕ\n",
    "\n",
    "X_train=train[variables]\n",
    "X_test=test[variables]\n",
    "X_oot=oot[variables]\n",
    "\n",
    "y_train=train['is_target']\n",
    "y_test=test['is_target']\n",
    "y_oot=oot['is_target']"
   ]
  },
  {
   "cell_type": "code",
   "execution_count": 216,
   "metadata": {},
   "outputs": [],
   "source": [
    "# ИСПОЛЬЗУЕМ НАДСТРОЙКУ ДЛЯ БЫСТРОГО ПАРАЛЛЕЛЬНОГО ВЫЧИСЛЕНИЯ\n",
    "import ray\n",
    "import modin.pandas as pd"
   ]
  },
  {
   "cell_type": "code",
   "execution_count": 217,
   "metadata": {},
   "outputs": [
    {
     "name": "stdout",
     "output_type": "stream",
     "text": [
      "CPU times: user 3d 11h 41min 1s, sys: 1h 40min 28s, total: 3d 13h 21min 30s\n",
      "Wall time: 1h 47min 21s\n"
     ]
    }
   ],
   "source": [
    "%%time\n",
    "# ПАРАЛЛЕЛЬНОЕ ВЫЧИСЛЕНИЕ\n",
    "\n",
    "table_with_parameters['all_gini_result'] = table_with_parameters[\n",
    "    ['n_estimators', 'max_depth','learning_rate','subsample','min_child_weight','scale_pos_weight']\n",
    "    ].apply(lambda x : learning_boost(int(x[0]),int(x[1]),float(x[2]),float(x[3]),int(x[4]),float(x[5])), axis=1)"
   ]
  },
  {
   "cell_type": "code",
   "execution_count": 218,
   "metadata": {},
   "outputs": [],
   "source": [
    "# РАСПАКОВКА РЕЗУЛЬТАТОВ\n",
    "\n",
    "table_with_parameters['gini_tr'] = table_with_parameters['all_gini_result'].apply(lambda x : x[0])\n",
    "table_with_parameters['gini_te'] = table_with_parameters['all_gini_result'].apply(lambda x : x[1])\n",
    "table_with_parameters['gini_oot'] = table_with_parameters['all_gini_result'].apply(lambda x : x[2])\n",
    "\n",
    "table_with_parameters = table_with_parameters.drop(['all_param_list','all_gini_result'], axis = 1)"
   ]
  },
  {
   "cell_type": "code",
   "execution_count": 219,
   "metadata": {},
   "outputs": [],
   "source": [
    "table_with_parameters['diff_tr_te'] = abs(table_with_parameters.gini_tr - table_with_parameters.gini_te)\n",
    "table_with_parameters['diff_tr_oot'] = abs(table_with_parameters.gini_tr - table_with_parameters.gini_oot)"
   ]
  },
  {
   "cell_type": "markdown",
   "metadata": {},
   "source": [
    "# Итог"
   ]
  },
  {
   "cell_type": "code",
   "execution_count": null,
   "metadata": {},
   "outputs": [],
   "source": [
    "# Получаем таблицу результатов бустинга на разных параметрах, при этом работа давольно быстрая \n",
    "# (может занимать 1 час на более чем 3000 варинтов параметров)"
   ]
  },
  {
   "cell_type": "code",
   "execution_count": 220,
   "metadata": {},
   "outputs": [
    {
     "data": {
      "text/html": [
       "<div>\n",
       "<style scoped>\n",
       "    .dataframe tbody tr th:only-of-type {\n",
       "        vertical-align: middle;\n",
       "    }\n",
       "\n",
       "    .dataframe tbody tr th {\n",
       "        vertical-align: top;\n",
       "    }\n",
       "\n",
       "    .dataframe thead th {\n",
       "        text-align: right;\n",
       "    }\n",
       "</style>\n",
       "<table border=\"1\" class=\"dataframe\">\n",
       "  <thead>\n",
       "    <tr style=\"text-align: right;\">\n",
       "      <th></th>\n",
       "      <th>index</th>\n",
       "      <th>n_estimators</th>\n",
       "      <th>max_depth</th>\n",
       "      <th>learning_rate</th>\n",
       "      <th>subsample</th>\n",
       "      <th>min_child_weight</th>\n",
       "      <th>scale_pos_weight</th>\n",
       "      <th>gini_tr</th>\n",
       "      <th>gini_te</th>\n",
       "      <th>gini_oot</th>\n",
       "      <th>diff_tr_te</th>\n",
       "      <th>diff_tr_oot</th>\n",
       "    </tr>\n",
       "  </thead>\n",
       "  <tbody>\n",
       "    <tr>\n",
       "      <th>0</th>\n",
       "      <td>1577</td>\n",
       "      <td>1000</td>\n",
       "      <td>4</td>\n",
       "      <td>0.018</td>\n",
       "      <td>0.8</td>\n",
       "      <td>80</td>\n",
       "      <td>1.2</td>\n",
       "      <td>0.567392</td>\n",
       "      <td>0.289104</td>\n",
       "      <td>0.292280</td>\n",
       "      <td>0.278289</td>\n",
       "      <td>0.275112</td>\n",
       "    </tr>\n",
       "    <tr>\n",
       "      <th>1</th>\n",
       "      <td>1568</td>\n",
       "      <td>1000</td>\n",
       "      <td>4</td>\n",
       "      <td>0.018</td>\n",
       "      <td>0.7</td>\n",
       "      <td>80</td>\n",
       "      <td>1.2</td>\n",
       "      <td>0.560578</td>\n",
       "      <td>0.289685</td>\n",
       "      <td>0.288748</td>\n",
       "      <td>0.270893</td>\n",
       "      <td>0.271830</td>\n",
       "    </tr>\n",
       "    <tr>\n",
       "      <th>2</th>\n",
       "      <td>1433</td>\n",
       "      <td>950</td>\n",
       "      <td>4</td>\n",
       "      <td>0.018</td>\n",
       "      <td>0.8</td>\n",
       "      <td>80</td>\n",
       "      <td>1.2</td>\n",
       "      <td>0.559097</td>\n",
       "      <td>0.291125</td>\n",
       "      <td>0.292402</td>\n",
       "      <td>0.267973</td>\n",
       "      <td>0.266695</td>\n",
       "    </tr>\n",
       "    <tr>\n",
       "      <th>3</th>\n",
       "      <td>1424</td>\n",
       "      <td>950</td>\n",
       "      <td>4</td>\n",
       "      <td>0.018</td>\n",
       "      <td>0.7</td>\n",
       "      <td>80</td>\n",
       "      <td>1.2</td>\n",
       "      <td>0.553410</td>\n",
       "      <td>0.290907</td>\n",
       "      <td>0.288852</td>\n",
       "      <td>0.262503</td>\n",
       "      <td>0.264558</td>\n",
       "    </tr>\n",
       "    <tr>\n",
       "      <th>4</th>\n",
       "      <td>1580</td>\n",
       "      <td>1000</td>\n",
       "      <td>4</td>\n",
       "      <td>0.018</td>\n",
       "      <td>0.8</td>\n",
       "      <td>100</td>\n",
       "      <td>1.2</td>\n",
       "      <td>0.552910</td>\n",
       "      <td>0.288811</td>\n",
       "      <td>0.292980</td>\n",
       "      <td>0.264098</td>\n",
       "      <td>0.259930</td>\n",
       "    </tr>\n",
       "    <tr>\n",
       "      <th>...</th>\n",
       "      <td>...</td>\n",
       "      <td>...</td>\n",
       "      <td>...</td>\n",
       "      <td>...</td>\n",
       "      <td>...</td>\n",
       "      <td>...</td>\n",
       "      <td>...</td>\n",
       "      <td>...</td>\n",
       "      <td>...</td>\n",
       "      <td>...</td>\n",
       "      <td>...</td>\n",
       "      <td>...</td>\n",
       "    </tr>\n",
       "    <tr>\n",
       "      <th>1579</th>\n",
       "      <td>9</td>\n",
       "      <td>500</td>\n",
       "      <td>3</td>\n",
       "      <td>0.003</td>\n",
       "      <td>0.8</td>\n",
       "      <td>80</td>\n",
       "      <td>0.8</td>\n",
       "      <td>0.338139</td>\n",
       "      <td>0.251466</td>\n",
       "      <td>0.273801</td>\n",
       "      <td>0.086673</td>\n",
       "      <td>0.064338</td>\n",
       "    </tr>\n",
       "    <tr>\n",
       "      <th>1580</th>\n",
       "      <td>6</td>\n",
       "      <td>500</td>\n",
       "      <td>3</td>\n",
       "      <td>0.003</td>\n",
       "      <td>0.7</td>\n",
       "      <td>120</td>\n",
       "      <td>0.8</td>\n",
       "      <td>0.337835</td>\n",
       "      <td>0.257428</td>\n",
       "      <td>0.273092</td>\n",
       "      <td>0.080407</td>\n",
       "      <td>0.064743</td>\n",
       "    </tr>\n",
       "    <tr>\n",
       "      <th>1581</th>\n",
       "      <td>159</td>\n",
       "      <td>550</td>\n",
       "      <td>3</td>\n",
       "      <td>0.003</td>\n",
       "      <td>0.8</td>\n",
       "      <td>120</td>\n",
       "      <td>0.8</td>\n",
       "      <td>0.336698</td>\n",
       "      <td>0.253760</td>\n",
       "      <td>0.272807</td>\n",
       "      <td>0.082938</td>\n",
       "      <td>0.063892</td>\n",
       "    </tr>\n",
       "    <tr>\n",
       "      <th>1582</th>\n",
       "      <td>12</td>\n",
       "      <td>500</td>\n",
       "      <td>3</td>\n",
       "      <td>0.003</td>\n",
       "      <td>0.8</td>\n",
       "      <td>100</td>\n",
       "      <td>0.8</td>\n",
       "      <td>0.336179</td>\n",
       "      <td>0.253429</td>\n",
       "      <td>0.273368</td>\n",
       "      <td>0.082750</td>\n",
       "      <td>0.062811</td>\n",
       "    </tr>\n",
       "    <tr>\n",
       "      <th>1583</th>\n",
       "      <td>15</td>\n",
       "      <td>500</td>\n",
       "      <td>3</td>\n",
       "      <td>0.003</td>\n",
       "      <td>0.8</td>\n",
       "      <td>120</td>\n",
       "      <td>0.8</td>\n",
       "      <td>0.334133</td>\n",
       "      <td>0.253667</td>\n",
       "      <td>0.274270</td>\n",
       "      <td>0.080466</td>\n",
       "      <td>0.059863</td>\n",
       "    </tr>\n",
       "  </tbody>\n",
       "</table>\n",
       "<p>1584 rows × 12 columns</p>\n",
       "</div>"
      ],
      "text/plain": [
       "      index  n_estimators  max_depth  learning_rate  subsample  \\\n",
       "0      1577          1000          4          0.018        0.8   \n",
       "1      1568          1000          4          0.018        0.7   \n",
       "2      1433           950          4          0.018        0.8   \n",
       "3      1424           950          4          0.018        0.7   \n",
       "4      1580          1000          4          0.018        0.8   \n",
       "...     ...           ...        ...            ...        ...   \n",
       "1579      9           500          3          0.003        0.8   \n",
       "1580      6           500          3          0.003        0.7   \n",
       "1581    159           550          3          0.003        0.8   \n",
       "1582     12           500          3          0.003        0.8   \n",
       "1583     15           500          3          0.003        0.8   \n",
       "\n",
       "      min_child_weight  scale_pos_weight   gini_tr   gini_te  gini_oot  \\\n",
       "0                   80               1.2  0.567392  0.289104  0.292280   \n",
       "1                   80               1.2  0.560578  0.289685  0.288748   \n",
       "2                   80               1.2  0.559097  0.291125  0.292402   \n",
       "3                   80               1.2  0.553410  0.290907  0.288852   \n",
       "4                  100               1.2  0.552910  0.288811  0.292980   \n",
       "...                ...               ...       ...       ...       ...   \n",
       "1579                80               0.8  0.338139  0.251466  0.273801   \n",
       "1580               120               0.8  0.337835  0.257428  0.273092   \n",
       "1581               120               0.8  0.336698  0.253760  0.272807   \n",
       "1582               100               0.8  0.336179  0.253429  0.273368   \n",
       "1583               120               0.8  0.334133  0.253667  0.274270   \n",
       "\n",
       "      diff_tr_te  diff_tr_oot  \n",
       "0       0.278289     0.275112  \n",
       "1       0.270893     0.271830  \n",
       "2       0.267973     0.266695  \n",
       "3       0.262503     0.264558  \n",
       "4       0.264098     0.259930  \n",
       "...          ...          ...  \n",
       "1579    0.086673     0.064338  \n",
       "1580    0.080407     0.064743  \n",
       "1581    0.082938     0.063892  \n",
       "1582    0.082750     0.062811  \n",
       "1583    0.080466     0.059863  \n",
       "\n",
       "[1584 rows x 12 columns]"
      ]
     },
     "execution_count": 220,
     "metadata": {},
     "output_type": "execute_result"
    }
   ],
   "source": [
    "table_with_parameters.sort_values(by='gini_tr',ascending=False).reset_index()"
   ]
  }
 ],
 "metadata": {
  "kernelspec": {
   "display_name": "Python 3 (ipykernel)",
   "language": "python",
   "name": "python3"
  },
  "language_info": {
   "codemirror_mode": {
    "name": "ipython",
    "version": 3
   },
   "file_extension": ".py",
   "mimetype": "text/x-python",
   "name": "python",
   "nbconvert_exporter": "python",
   "pygments_lexer": "ipython3",
   "version": "3.9.12"
  },
  "toc": {
   "base_numbering": 1,
   "nav_menu": {},
   "number_sections": true,
   "sideBar": true,
   "skip_h1_title": false,
   "title_cell": "Table of Contents",
   "title_sidebar": "Contents",
   "toc_cell": true,
   "toc_position": {
    "height": "calc(100% - 180px)",
    "left": "10px",
    "top": "150px",
    "width": "389.641px"
   },
   "toc_section_display": true,
   "toc_window_display": true
  },
  "varInspector": {
   "cols": {
    "lenName": 16,
    "lenType": 16,
    "lenVar": 40
   },
   "kernels_config": {
    "python": {
     "delete_cmd_postfix": "",
     "delete_cmd_prefix": "del ",
     "library": "var_list.py",
     "varRefreshCmd": "print(var_dic_list())"
    },
    "r": {
     "delete_cmd_postfix": ") ",
     "delete_cmd_prefix": "rm(",
     "library": "var_list.r",
     "varRefreshCmd": "cat(var_dic_list()) "
    }
   },
   "types_to_exclude": [
    "module",
    "function",
    "builtin_function_or_method",
    "instance",
    "_Feature"
   ],
   "window_display": false
  }
 },
 "nbformat": 4,
 "nbformat_minor": 4
}
